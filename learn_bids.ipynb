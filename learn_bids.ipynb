{
 "cells": [
  {
   "cell_type": "code",
   "execution_count": 2,
   "metadata": {},
   "outputs": [
    {
     "name": "stdout",
     "output_type": "stream",
     "text": [
      "Using dataset path: \"data/ds000157\"\n",
      "BIDS Layout: ...ch/cs682/project/data/ds000157 | Subjects: 30 | Sessions: 0 | Runs: 0\n"
     ]
    }
   ],
   "source": [
    "\"\"\"\n",
    "Set up\n",
    "\"\"\"\n",
    "import os\n",
    "import pandas as pd\n",
    "import pprint\n",
    "import numpy as np\n",
    "\n",
    "\n",
    "from bids import BIDSLayout\n",
    "\n",
    "\n",
    "ds_path = os.path.join(\"data\", \"ds000157\")\n",
    "print(\"Using dataset path: \\\"{}\\\"\".format(ds_path))\n",
    "\n",
    "layout = BIDSLayout(ds_path)\n",
    "print(layout)"
   ]
  },
  {
   "cell_type": "code",
   "execution_count": 3,
   "metadata": {
    "scrolled": true
   },
   "outputs": [
    {
     "name": "stdout",
     "output_type": "stream",
     "text": [
      "{'Authors': ['Paul A. M. Smeets',\n",
      "             'Floor M. Kroese',\n",
      "             'Catherine Evers',\n",
      "             'D. T. D. de Ridder'],\n",
      " 'BIDSVersion': '1.0.0rc3',\n",
      " 'Description': 'Thirty female subjects performed a passive viewing task with '\n",
      "                'blocks of food and nonfood images. More procedures can be '\n",
      "                'found in the publication. ',\n",
      " 'License': 'PDDL',\n",
      " 'Name': 'Block design food and nonfood picture viewing task',\n",
      " 'ReferencesAndLinks': ['http://www.ncbi.nlm.nih.gov/pubmed/23578759']}\n",
      "{'CogAtlasID': 'http://www.cognitiveatlas.org/term/id/trm_4c899211a965c',\n",
      " 'EchoTime': 0.023,\n",
      " 'FlipAngle': 72.5,\n",
      " 'MagneticFieldStrength': 3,\n",
      " 'Manufacturer': 'Philips',\n",
      " 'ManufacturerModelName': 'Achieva',\n",
      " 'RepetitionTime': 1.6,\n",
      " 'TaskDescription': 'During scanning, subjects alternately viewed 24s blocks '\n",
      "                    'of palatable food images (8 blocks) and non-food images '\n",
      "                    '(i.e., office utensils; 8 blocks), interspersed with 8–16 '\n",
      "                    's rest blocks showing a crosshair (12 s on average). '\n",
      "                    'Halfway the task there was a 10 s break. In the image '\n",
      "                    'blocks, 8 images were presented for 2.5 s each with a 0.5 '\n",
      "                    's inter-stimulus interval. All pictures were of equal '\n",
      "                    'size and displayed the (food) object on a white '\n",
      "                    'background. Food pictures were selected to arepresent '\n",
      "                    'foods that are both attractive and ‘forbidden’ (i.e., '\n",
      "                    'fattening), congruent with our definition of temptations '\n",
      "                    '[18]. Examples are shown in Supplementary Fig. S.1. A '\n",
      "                    'pilot test among 31 female students showed that on '\n",
      "                    'average the food pictures were rated as fatten- ing (M = '\n",
      "                    '5.5, SD = 1.2), as assessed on a scale ranging from 1 '\n",
      "                    '(not at all fattening) to 7 (very fattening) and as '\n",
      "                    'rather attractive (M = 5.1, SD = .9), as assessed on a '\n",
      "                    'scale from 1(not at all attractive) to 7 (very '\n",
      "                    'attractive). Food pictures were significantly more '\n",
      "                    'attractive than office utensil pictures, which were rated '\n",
      "                    'as neutral (M = 3.4, SD = 1.2; P < .01). The tempting '\n",
      "                    'nature of the food pictures was confirmed by ratings of '\n",
      "                    'ran- dom subsamples of these pictures that were obtained '\n",
      "                    'from participants in the main study after the scan (M = '\n",
      "                    '4.4, SD = .8; on a scale from 1 (not at all tempting) to '\n",
      "                    '7 (very tempting)).Supplementary data associated with '\n",
      "                    'this article can be found, in the online version, at '\n",
      "                    'http://dx.doi.org/10.1016/j.bbr.2013.03.041.',\n",
      " 'TaskName': 'Passive viewing task with blocks of food and nonfood images'}\n"
     ]
    }
   ],
   "source": [
    "\"\"\"\n",
    "Learn more about our experiment\n",
    "\"\"\"\n",
    "\n",
    "def get_experiment_details(layout: BIDSLayout):\n",
    "    \n",
    "    description = layout.get_dataset_description()\n",
    "    \n",
    "    # layout.get_entities()\n",
    "    \n",
    "    # Get the metadata\n",
    "    metadata = layout.get(\n",
    "        extension='json', \n",
    "        suffix='bold', \n",
    "        task='passiveimageviewing',\n",
    "    )\n",
    "    assert len(metadata) == 1, \"Bad data read\"\n",
    "    metadata = metadata[0]\n",
    "    \n",
    "    # Get the subject answers\n",
    "    return description, metadata\n",
    "\n",
    "\n",
    "desc, meta = get_experiment_details(layout)\n",
    "\n",
    "pprint.pprint(desc)\n",
    "pprint.pprint(meta.get_dict())"
   ]
  },
  {
   "cell_type": "code",
   "execution_count": 4,
   "metadata": {},
   "outputs": [
    {
     "data": {
      "text/html": [
       "<div>\n",
       "<style scoped>\n",
       "    .dataframe tbody tr th:only-of-type {\n",
       "        vertical-align: middle;\n",
       "    }\n",
       "\n",
       "    .dataframe tbody tr th {\n",
       "        vertical-align: top;\n",
       "    }\n",
       "\n",
       "    .dataframe thead th {\n",
       "        text-align: right;\n",
       "    }\n",
       "</style>\n",
       "<table border=\"1\" class=\"dataframe\">\n",
       "  <thead>\n",
       "    <tr style=\"text-align: right;\">\n",
       "      <th></th>\n",
       "      <th>diet_importance</th>\n",
       "      <th>appetite_pre</th>\n",
       "      <th>appetite_post</th>\n",
       "      <th>oral_contraceptive</th>\n",
       "      <th>days_since_menstruation</th>\n",
       "      <th>cycle_phase_covariate</th>\n",
       "    </tr>\n",
       "  </thead>\n",
       "  <tbody>\n",
       "    <tr>\n",
       "      <th>LongName</th>\n",
       "      <td>Diet Importance</td>\n",
       "      <td>Pre-scan Appetite Rating (Hunger Covariate)</td>\n",
       "      <td>Post-scan Appetite Rating</td>\n",
       "      <td>Oral Contraceptive (Yes/No)</td>\n",
       "      <td>Days Since Last Menstruation (Day in Cycle)</td>\n",
       "      <td>Cycle Phase Covariate</td>\n",
       "    </tr>\n",
       "    <tr>\n",
       "      <th>Description</th>\n",
       "      <td>subject's self-rating of how important dieting...</td>\n",
       "      <td>subject's self-rating of appetite strength whe...</td>\n",
       "      <td>subject's self-rating of appetite strength whe...</td>\n",
       "      <td>whether or not the subject was using an oral c...</td>\n",
       "      <td>number of days since last menstruation</td>\n",
       "      <td>Menstrual Cycle phase (based on days_since_men...</td>\n",
       "    </tr>\n",
       "    <tr>\n",
       "      <th>Units</th>\n",
       "      <td>1-5 scale, 5 being the highest</td>\n",
       "      <td>1-5 scale, 5 being the highest</td>\n",
       "      <td>1-5 scale, 5 being the highest</td>\n",
       "      <td>yes/no</td>\n",
       "      <td>days</td>\n",
       "      <td>0 = Not in phase 1 or 2 (29 days or more) or u...</td>\n",
       "    </tr>\n",
       "  </tbody>\n",
       "</table>\n",
       "</div>"
      ],
      "text/plain": [
       "                                               diet_importance  \\\n",
       "LongName                                       Diet Importance   \n",
       "Description  subject's self-rating of how important dieting...   \n",
       "Units                           1-5 scale, 5 being the highest   \n",
       "\n",
       "                                                  appetite_pre  \\\n",
       "LongName           Pre-scan Appetite Rating (Hunger Covariate)   \n",
       "Description  subject's self-rating of appetite strength whe...   \n",
       "Units                           1-5 scale, 5 being the highest   \n",
       "\n",
       "                                                 appetite_post  \\\n",
       "LongName                             Post-scan Appetite Rating   \n",
       "Description  subject's self-rating of appetite strength whe...   \n",
       "Units                           1-5 scale, 5 being the highest   \n",
       "\n",
       "                                            oral_contraceptive  \\\n",
       "LongName                           Oral Contraceptive (Yes/No)   \n",
       "Description  whether or not the subject was using an oral c...   \n",
       "Units                                                   yes/no   \n",
       "\n",
       "                                 days_since_menstruation  \\\n",
       "LongName     Days Since Last Menstruation (Day in Cycle)   \n",
       "Description       number of days since last menstruation   \n",
       "Units                                               days   \n",
       "\n",
       "                                         cycle_phase_covariate  \n",
       "LongName                                 Cycle Phase Covariate  \n",
       "Description  Menstrual Cycle phase (based on days_since_men...  \n",
       "Units        0 = Not in phase 1 or 2 (29 days or more) or u...  "
      ]
     },
     "metadata": {},
     "output_type": "display_data"
    },
    {
     "data": {
      "text/html": [
       "<div>\n",
       "<style scoped>\n",
       "    .dataframe tbody tr th:only-of-type {\n",
       "        vertical-align: middle;\n",
       "    }\n",
       "\n",
       "    .dataframe tbody tr th {\n",
       "        vertical-align: top;\n",
       "    }\n",
       "\n",
       "    .dataframe thead th {\n",
       "        text-align: right;\n",
       "    }\n",
       "</style>\n",
       "<table border=\"1\" class=\"dataframe\">\n",
       "  <thead>\n",
       "    <tr style=\"text-align: right;\">\n",
       "      <th></th>\n",
       "      <th>participant_id</th>\n",
       "      <th>sex</th>\n",
       "      <th>age</th>\n",
       "      <th>BMI</th>\n",
       "      <th>diet_success</th>\n",
       "      <th>diet_importance</th>\n",
       "      <th>appetite_pre</th>\n",
       "      <th>appetite_post</th>\n",
       "      <th>oral_contraceptive</th>\n",
       "      <th>days_since_menstruationi</th>\n",
       "      <th>cycle_phase_covariate</th>\n",
       "    </tr>\n",
       "  </thead>\n",
       "  <tbody>\n",
       "    <tr>\n",
       "      <th>0</th>\n",
       "      <td>sub-01</td>\n",
       "      <td>F</td>\n",
       "      <td>24.0</td>\n",
       "      <td>18.70</td>\n",
       "      <td>4.3</td>\n",
       "      <td>2.0</td>\n",
       "      <td>3.70</td>\n",
       "      <td>5.00</td>\n",
       "      <td>yes</td>\n",
       "      <td>93</td>\n",
       "      <td>0</td>\n",
       "    </tr>\n",
       "    <tr>\n",
       "      <th>1</th>\n",
       "      <td>sub-02</td>\n",
       "      <td>F</td>\n",
       "      <td>23.0</td>\n",
       "      <td>19.59</td>\n",
       "      <td>3.0</td>\n",
       "      <td>2.0</td>\n",
       "      <td>1.30</td>\n",
       "      <td>4.67</td>\n",
       "      <td>yes</td>\n",
       "      <td>9</td>\n",
       "      <td>0</td>\n",
       "    </tr>\n",
       "    <tr>\n",
       "      <th>2</th>\n",
       "      <td>sub-03</td>\n",
       "      <td>F</td>\n",
       "      <td>19.0</td>\n",
       "      <td>19.00</td>\n",
       "      <td>3.3</td>\n",
       "      <td>2.0</td>\n",
       "      <td>2.04</td>\n",
       "      <td>4.33</td>\n",
       "      <td>yes</td>\n",
       "      <td>0</td>\n",
       "      <td>0</td>\n",
       "    </tr>\n",
       "    <tr>\n",
       "      <th>3</th>\n",
       "      <td>sub-04</td>\n",
       "      <td>F</td>\n",
       "      <td>25.0</td>\n",
       "      <td>19.13</td>\n",
       "      <td>2.7</td>\n",
       "      <td>2.0</td>\n",
       "      <td>2.96</td>\n",
       "      <td>4.00</td>\n",
       "      <td>yes</td>\n",
       "      <td>19</td>\n",
       "      <td>0</td>\n",
       "    </tr>\n",
       "    <tr>\n",
       "      <th>4</th>\n",
       "      <td>sub-05</td>\n",
       "      <td>F</td>\n",
       "      <td>19.0</td>\n",
       "      <td>22.86</td>\n",
       "      <td>1.7</td>\n",
       "      <td>4.0</td>\n",
       "      <td>4.07</td>\n",
       "      <td>4.33</td>\n",
       "      <td>no</td>\n",
       "      <td>14</td>\n",
       "      <td>1</td>\n",
       "    </tr>\n",
       "  </tbody>\n",
       "</table>\n",
       "</div>"
      ],
      "text/plain": [
       "  participant_id sex   age    BMI  diet_success  diet_importance  \\\n",
       "0         sub-01   F  24.0  18.70           4.3              2.0   \n",
       "1         sub-02   F  23.0  19.59           3.0              2.0   \n",
       "2         sub-03   F  19.0  19.00           3.3              2.0   \n",
       "3         sub-04   F  25.0  19.13           2.7              2.0   \n",
       "4         sub-05   F  19.0  22.86           1.7              4.0   \n",
       "\n",
       "   appetite_pre  appetite_post oral_contraceptive  days_since_menstruationi  \\\n",
       "0          3.70           5.00                yes                        93   \n",
       "1          1.30           4.67                yes                         9   \n",
       "2          2.04           4.33                yes                         0   \n",
       "3          2.96           4.00                yes                        19   \n",
       "4          4.07           4.33                 no                        14   \n",
       "\n",
       "   cycle_phase_covariate  \n",
       "0                      0  \n",
       "1                      0  \n",
       "2                      0  \n",
       "3                      0  \n",
       "4                      1  "
      ]
     },
     "metadata": {},
     "output_type": "display_data"
    }
   ],
   "source": [
    "\"\"\"\n",
    "Learn more about our subjects in the experiment\n",
    "\"\"\"\n",
    "\n",
    "def get_subject_details(layout: BIDSLayout):\n",
    "\n",
    "    # Get the subject questionaire\n",
    "    questionaires = layout.get(\n",
    "        extension='json', \n",
    "        suffix='participants', \n",
    "    )\n",
    "    assert len(questionaires) == 1, \"Bad data read\"\n",
    "    questionaire = questionaires[0]\n",
    "    \n",
    "    # Get the subject answers\n",
    "    answers = layout.get(\n",
    "        extension='tsv', \n",
    "        suffix='participants', \n",
    "    )\n",
    "    assert len(answers) == 1, \"Bad data read\"\n",
    "    answers = answers[0]\n",
    "    \n",
    "    return questionaire, answers\n",
    "        \n",
    "        \n",
    "q, a = get_subject_details(layout)\n",
    "\n",
    "# I believe q is missing diet_success, which I gather is self rating 1-5 of how well your diet is going\n",
    "df_q = pd.DataFrame.from_dict(q.get_dict())\n",
    "df_a = a.get_df()\n",
    "\n",
    "display(df_q)\n",
    "display(df_a.head())"
   ]
  },
  {
   "cell_type": "code",
   "execution_count": 104,
   "metadata": {},
   "outputs": [
    {
     "name": "stdout",
     "output_type": "stream",
     "text": [
      "                                               diet_importance  \\\n",
      "LongName                                       Diet Importance   \n",
      "Description  subject's self-rating of how important dieting...   \n",
      "Units                           1-5 scale, 5 being the highest   \n",
      "\n",
      "                                                  appetite_pre  \\\n",
      "LongName           Pre-scan Appetite Rating (Hunger Covariate)   \n",
      "Description  subject's self-rating of appetite strength whe...   \n",
      "Units                           1-5 scale, 5 being the highest   \n",
      "\n",
      "                                                 appetite_post  \\\n",
      "LongName                             Post-scan Appetite Rating   \n",
      "Description  subject's self-rating of appetite strength whe...   \n",
      "Units                           1-5 scale, 5 being the highest   \n",
      "\n",
      "                                            oral_contraceptive  \\\n",
      "LongName                           Oral Contraceptive (Yes/No)   \n",
      "Description  whether or not the subject was using an oral c...   \n",
      "Units                                                   yes/no   \n",
      "\n",
      "                                 days_since_menstruation  \\\n",
      "LongName     Days Since Last Menstruation (Day in Cycle)   \n",
      "Description       number of days since last menstruation   \n",
      "Units                                               days   \n",
      "\n",
      "                                         cycle_phase_covariate  \n",
      "LongName                                 Cycle Phase Covariate  \n",
      "Description  Menstrual Cycle phase (based on days_since_men...  \n",
      "Units        0 = Not in phase 1 or 2 (29 days or more) or u...  \n"
     ]
    }
   ],
   "source": [
    "print(df_q)"
   ]
  },
  {
   "cell_type": "code",
   "execution_count": 28,
   "metadata": {
    "scrolled": false
   },
   "outputs": [
    {
     "name": "stdout",
     "output_type": "stream",
     "text": [
      "T shape:  (175, 288, 288)\n",
      "B shape:  (64, 64, 30, 375)\n"
     ]
    },
    {
     "data": {
      "text/html": [
       "<div>\n",
       "<style scoped>\n",
       "    .dataframe tbody tr th:only-of-type {\n",
       "        vertical-align: middle;\n",
       "    }\n",
       "\n",
       "    .dataframe tbody tr th {\n",
       "        vertical-align: top;\n",
       "    }\n",
       "\n",
       "    .dataframe thead th {\n",
       "        text-align: right;\n",
       "    }\n",
       "</style>\n",
       "<table border=\"1\" class=\"dataframe\">\n",
       "  <thead>\n",
       "    <tr style=\"text-align: right;\">\n",
       "      <th></th>\n",
       "      <th>onset</th>\n",
       "      <th>duration</th>\n",
       "      <th>trial_type</th>\n",
       "    </tr>\n",
       "  </thead>\n",
       "  <tbody>\n",
       "    <tr>\n",
       "      <th>0</th>\n",
       "      <td>0.0</td>\n",
       "      <td>24.10</td>\n",
       "      <td>food</td>\n",
       "    </tr>\n",
       "    <tr>\n",
       "      <th>1</th>\n",
       "      <td>40.1</td>\n",
       "      <td>24.06</td>\n",
       "      <td>nonfood</td>\n",
       "    </tr>\n",
       "    <tr>\n",
       "      <th>2</th>\n",
       "      <td>77.2</td>\n",
       "      <td>24.07</td>\n",
       "      <td>food</td>\n",
       "    </tr>\n",
       "    <tr>\n",
       "      <th>3</th>\n",
       "      <td>111.3</td>\n",
       "      <td>24.06</td>\n",
       "      <td>nonfood</td>\n",
       "    </tr>\n",
       "    <tr>\n",
       "      <th>4</th>\n",
       "      <td>143.3</td>\n",
       "      <td>24.06</td>\n",
       "      <td>food</td>\n",
       "    </tr>\n",
       "    <tr>\n",
       "      <th>5</th>\n",
       "      <td>179.4</td>\n",
       "      <td>24.07</td>\n",
       "      <td>nonfood</td>\n",
       "    </tr>\n",
       "    <tr>\n",
       "      <th>6</th>\n",
       "      <td>218.5</td>\n",
       "      <td>24.04</td>\n",
       "      <td>food</td>\n",
       "    </tr>\n",
       "    <tr>\n",
       "      <th>7</th>\n",
       "      <td>251.5</td>\n",
       "      <td>24.06</td>\n",
       "      <td>nonfood</td>\n",
       "    </tr>\n",
       "    <tr>\n",
       "      <th>8</th>\n",
       "      <td>289.6</td>\n",
       "      <td>10.00</td>\n",
       "      <td>break</td>\n",
       "    </tr>\n",
       "    <tr>\n",
       "      <th>9</th>\n",
       "      <td>299.6</td>\n",
       "      <td>24.07</td>\n",
       "      <td>food</td>\n",
       "    </tr>\n",
       "    <tr>\n",
       "      <th>10</th>\n",
       "      <td>334.7</td>\n",
       "      <td>24.10</td>\n",
       "      <td>nonfood</td>\n",
       "    </tr>\n",
       "    <tr>\n",
       "      <th>11</th>\n",
       "      <td>374.8</td>\n",
       "      <td>24.06</td>\n",
       "      <td>food</td>\n",
       "    </tr>\n",
       "    <tr>\n",
       "      <th>12</th>\n",
       "      <td>411.9</td>\n",
       "      <td>24.06</td>\n",
       "      <td>nonfood</td>\n",
       "    </tr>\n",
       "    <tr>\n",
       "      <th>13</th>\n",
       "      <td>445.9</td>\n",
       "      <td>24.09</td>\n",
       "      <td>food</td>\n",
       "    </tr>\n",
       "    <tr>\n",
       "      <th>14</th>\n",
       "      <td>478.0</td>\n",
       "      <td>24.09</td>\n",
       "      <td>nonfood</td>\n",
       "    </tr>\n",
       "    <tr>\n",
       "      <th>15</th>\n",
       "      <td>514.1</td>\n",
       "      <td>24.06</td>\n",
       "      <td>food</td>\n",
       "    </tr>\n",
       "    <tr>\n",
       "      <th>16</th>\n",
       "      <td>553.2</td>\n",
       "      <td>24.07</td>\n",
       "      <td>nonfood</td>\n",
       "    </tr>\n",
       "  </tbody>\n",
       "</table>\n",
       "</div>"
      ],
      "text/plain": [
       "    onset  duration trial_type\n",
       "0     0.0     24.10       food\n",
       "1    40.1     24.06    nonfood\n",
       "2    77.2     24.07       food\n",
       "3   111.3     24.06    nonfood\n",
       "4   143.3     24.06       food\n",
       "5   179.4     24.07    nonfood\n",
       "6   218.5     24.04       food\n",
       "7   251.5     24.06    nonfood\n",
       "8   289.6     10.00      break\n",
       "9   299.6     24.07       food\n",
       "10  334.7     24.10    nonfood\n",
       "11  374.8     24.06       food\n",
       "12  411.9     24.06    nonfood\n",
       "13  445.9     24.09       food\n",
       "14  478.0     24.09    nonfood\n",
       "15  514.1     24.06       food\n",
       "16  553.2     24.07    nonfood"
      ]
     },
     "metadata": {},
     "output_type": "display_data"
    }
   ],
   "source": [
    "\"\"\"\n",
    "Gather our neuro imaging data\n",
    "\n",
    "what is T1w vs task nii.gz?\n",
    "why are events all identical?\n",
    "# anat / T1w.nii.gz\n",
    "# func / task _bold.nii.gz\n",
    "# events.tsv\n",
    "        \n",
    "\"\"\"\n",
    "\n",
    "# TODO doing one at a time for avoiding memory bloat\n",
    "subjects = layout.get_subjects()\n",
    "\n",
    "\n",
    "def get_data(layout: BIDSLayout, subject: str):\n",
    "    \n",
    "    # Get the ????? image\n",
    "    T1w_images = layout.get(\n",
    "        datatype='anat',\n",
    "        subject=subject, \n",
    "        extension='nii.gz', \n",
    "        suffix='T1w', \n",
    "    )\n",
    "    assert len(T1w_images) == 1, \"Bad data read\"\n",
    "    T1w_image = T1w_images[0]\n",
    "    \n",
    "    # Get the ????? image\n",
    "    bold_images = layout.get(\n",
    "        datatype='func',\n",
    "        subject=subject, \n",
    "        extension='nii.gz', \n",
    "        suffix='bold', \n",
    "        task='passiveimageviewing',\n",
    "    )\n",
    "    assert len(bold_images) == 1, \"Bad data read\"\n",
    "    bold_image = bold_images[0]\n",
    "\n",
    "    # Get the classification truths\n",
    "    found_events = layout.get(\n",
    "        datatype='func',\n",
    "        subject=subject, \n",
    "        extension='tsv', \n",
    "        suffix='events', \n",
    "        task='passiveimageviewing',\n",
    "    )\n",
    "    assert len(found_events) == 1, \"Bad data read\"\n",
    "    events = found_events[0]\n",
    "\n",
    "    # something.tags looked interesting\n",
    "    return T1w_image, bold_image, events\n",
    "        \n",
    "    \n",
    "t_img, b_img, e = get_data(layout, subjects[0])\n",
    "\n",
    "nibabel_t_img = t_img.get_image()\n",
    "nibabel_b_img = b_img.get_image()\n",
    "df_e = e.get_df()\n",
    "\n",
    "print(\"T shape: \", nibabel_t_img.shape)\n",
    "print(\"B shape: \", nibabel_b_img.shape)\n",
    "display(df_e)"
   ]
  },
  {
   "cell_type": "code",
   "execution_count": 105,
   "metadata": {},
   "outputs": [
    {
     "data": {
      "text/plain": [
       "['01',\n",
       " '02',\n",
       " '03',\n",
       " '04',\n",
       " '05',\n",
       " '06',\n",
       " '07',\n",
       " '08',\n",
       " '09',\n",
       " '10',\n",
       " '11',\n",
       " '12',\n",
       " '13',\n",
       " '14',\n",
       " '15',\n",
       " '16',\n",
       " '17',\n",
       " '18',\n",
       " '19',\n",
       " '20',\n",
       " '21',\n",
       " '22',\n",
       " '23',\n",
       " '24',\n",
       " '25',\n",
       " '26',\n",
       " '27',\n",
       " '28',\n",
       " '29',\n",
       " '30']"
      ]
     },
     "execution_count": 105,
     "metadata": {},
     "output_type": "execute_result"
    }
   ],
   "source": [
    "layout.get_subjects()"
   ]
  },
  {
   "cell_type": "code",
   "execution_count": 57,
   "metadata": {},
   "outputs": [
    {
     "data": {
      "text/plain": [
       "<OrthoSlicer3D: /home/evan/workspace/scratch/cs682/project/data/ds000157/sub-01/anat/sub-01_T1w.nii.gz (175, 288, 288)>"
      ]
     },
     "execution_count": 57,
     "metadata": {},
     "output_type": "execute_result"
    },
    {
     "data": {
      "image/png": "[encoded data removed]",
      "text/plain": [
       "<Figure size 576x576 with 3 Axes>"
      ]
     },
     "metadata": {
      "needs_background": "light"
     },
     "output_type": "display_data"
    }
   ],
   "source": [
    "\"\"\"\n",
    "We won't use the t_img, it seems to be a one time high res scan of the subject's brain, and was not a part\n",
    "of the experimental procedure as far as I can tell.\n",
    "\n",
    "From the paper:\n",
    "    In addition to the functional scan, a high resolution T1-weighted anatomical MRI scan was\n",
    "    made (3D gradient echo sequence, repetition time = 8.4 ms, echo time = 3.8 ms,\n",
    "    flip angle = 8◦, FOV= 288 mm × 288 mm × 175 mm, 175 sagittal slices, voxel\n",
    "    size = 1 mm × 1 mm × 1 mm). \n",
    "\"\"\"\n",
    "nibabel_t_img.orthoview()"
   ]
  },
  {
   "cell_type": "code",
   "execution_count": null,
   "metadata": {},
   "outputs": [],
   "source": [
    "\"\"\"\n",
    "During scanning, subjects alternately viewed 24 s blocks of palatable food\n",
    "images (8 blocks) and non-food images (i.e., office utensils; 8 blocks), interspersed\n",
    "with 8–16 s rest blocks showing a crosshair (12 s on average). Halfway the task there\n",
    "was a 10 s break. In the image blocks, 8 images were presented for 2.5 s each with a\n",
    "0.5 s inter-stimulus interval. A\n",
    "\"\"\""
   ]
  },
  {
   "cell_type": "code",
   "execution_count": 9,
   "metadata": {},
   "outputs": [
    {
     "data": {
      "text/plain": [
       "167.36"
      ]
     },
     "execution_count": 9,
     "metadata": {},
     "output_type": "execute_result"
    }
   ],
   "source": [
    "\"\"\"\n",
    "The functional scan was a T2-weighted gradient echo 2D-echo planar\n",
    "imaging sequence (64 × 64 matrix, repetition time = 1600 ms, echo time = 23 ms,\n",
    "flip angle = 72.5◦, FOV= 208 × 119 × 256 mm, SENSE factor AP = 2.4, 30 axial\n",
    "3.6 mm slices with 0.4 mm gap, reconstructed voxel size = 4 mm × 4 mm × 4 mm).\n",
    "In one functional run 370 scans were made (∼10 min). \n",
    "\n",
    "During the functional run, stimuli were presented on\n",
    "a screen with the use of the E-Prime software package.\n",
    "\"\"\"\n",
    "\n",
    "# My commentary\n",
    "\"\"\"\n",
    "B is the T2-weighted, \n",
    "64 (either SAGITAL/CORONAL) \n",
    "  x 64 (other of SAGITAL/CORONAL) \n",
    "  x 30 (axial/horizontal, accounts for verticallity) \n",
    "  x 370 (scans, accounts for TIME)\n",
    "  \n",
    "1600 + 23 * 370 ms which is ~10 minutes(ah good)\n",
    "\n",
    "So we can label each of the 370 scans approximately with the df_e, very interesting.\n",
    "\n",
    "MEANWHILE\n",
    "T is the T1-weighted, FOV dimensions??? So the principal experiment is B? What is T? A one time thing?\n",
    "unclear what it's purpose is but I think I have what I need in B\n",
    "\"\"\"\n",
    "\n",
    "\"\"\"\n",
    "FMRI data were preprocessed and analyzed with the SPM8 software package\n",
    "(Wellcome Department of Imaging Neuroscience, London, United Kingdom,\n",
    "(http://www.fil.ion.ucl.ac.uk/spm/software/spm8/) in conjunction with the MarsBar toolbox (http://marsbar.sourceforge.net/) run withMATLAB 7.9 (TheMathworks\n",
    "Inc, Natick, MA). The functional volumes of every subject were realigned to the first\n",
    "volume ofthe first run, globally normalized to Montreal Neurological Institute space\n",
    "(MNI space) retaining 4 mm × 4 mm × 4 mm voxels, and spatially smoothed with a\n",
    "gaussian kernel of 8 mm full width at half maximum. A statistical parametric map\n",
    "was generated for every subject by fitting a boxcar function to each time series, convolved with the canonical hemodynamic response function. Data were high-pass\n",
    "filtered with a cutoff of 128 s. Three conditions were modeled: viewing foods, viewing non-foods and the half-way break. For every subject, parameters were estimated\n",
    "for three comparisons (referred to as contrasts); contrastimages were calculated for\n",
    "viewing foods (F), viewing non-foods (NF) and for foods > non-foods (F > NF).\n",
    "First, brain activation by food versus non-food images was assessed using a t-test\n",
    "with phase of the menstrual cycle and hunger added as control variables.2\n",
    "\"\"\""
   ]
  },
  {
   "cell_type": "code",
   "execution_count": 79,
   "metadata": {},
   "outputs": [
    {
     "name": "stdout",
     "output_type": "stream",
     "text": [
      "19.324999999999932\n"
     ]
    }
   ],
   "source": [
    "n_scans = nibabel_b_img.shape[-1]\n",
    "scan_time = 1.6 + 0.023  # from paper, seconds\n",
    "total_time = n_scans * scan_time  # 608.625 seconds, or a little past 10 minutes\n",
    "\n",
    "# Paper says the data should start from 0.0, we can assume the unaccounted for events past \n",
    "\n",
    "durations = df_e.onset - df_e.shift(periods=1).onset\n",
    "supposed_ending = df_e.onset.iloc[-1] + durations.median()  # 589.3\n",
    " \n",
    "# Unaccounted for time\n",
    "print(total_time - supposed_ending)"
   ]
  },
  {
   "cell_type": "code",
   "execution_count": 78,
   "metadata": {},
   "outputs": [
    {
     "data": {
      "text/plain": [
       "<OrthoSlicer3D: /home/evan/workspace/scratch/cs682/project/data/ds000157/sub-01/func/sub-01_task-passiveimageviewing_bold.nii.gz (64, 64, 30, 375)>"
      ]
     },
     "execution_count": 78,
     "metadata": {},
     "output_type": "execute_result"
    },
    {
     "data": {
      "image/png": "[encoded data removed]",
      "text/plain": [
       "<Figure size 576x576 with 4 Axes>"
      ]
     },
     "metadata": {
      "needs_background": "light"
     },
     "output_type": "display_data"
    }
   ],
   "source": [
    "\"\"\"\n",
    "Thoughts on what to do\n",
    "\n",
    "1. Event times seem strict, so assume the unaccounted for time is either leading in or tailing the experiment\n",
    "2. I read something about the data being processed to start at event 0.0, so I'll try calling the leftover a tail\n",
    "3. If it doesn't seem right (test with neuroimage displaying) try splitting the difference in head+tail\n",
    "\"\"\"\n",
    "\n",
    "data = nibabel_b_img\n",
    "data.orthoview()"
   ]
  },
  {
   "cell_type": "code",
   "execution_count": 100,
   "metadata": {
    "scrolled": true
   },
   "outputs": [
    {
     "name": "stdout",
     "output_type": "stream",
     "text": [
      "['food: 177', 'nonfood: 192', 'break: 6']\n"
     ]
    }
   ],
   "source": [
    "def get_scan_assignments(img, events: pd.DataFrame):\n",
    "    data = img.get_data()\n",
    "    \n",
    "    assignments = {\n",
    "        \"food\":[],\n",
    "        \"nonfood\":[],\n",
    "        \"break\":[],\n",
    "    }\n",
    "    \n",
    "    for timestep in range(data.shape[-1]):\n",
    "        estimated_time = timestep * scan_time  # should be either 1600ms or 1623ms\n",
    "        \n",
    "        # Get the event with the highest onset covered by the estimated time of the scan\n",
    "        event_proximity = events.onset - estimated_time\n",
    "        latest_elapsed_event = len(event_proximity[event_proximity <= 0.0].index) - 1  # convert len to index\n",
    "        matched_event = events.iloc[latest_elapsed_event]\n",
    "        \n",
    "        assignments[matched_event.trial_type].append(timestep)\n",
    "        \n",
    "    return assignments\n",
    "\n",
    "\n",
    "scan_assignments = get_scan_assignments(nibabel_b_img, df_e)\n",
    "print(list(\"{}: {}\".format(k,len(v)) for k,v in scan_assignments.items()))"
   ]
  },
  {
   "cell_type": "code",
   "execution_count": 108,
   "metadata": {},
   "outputs": [],
   "source": [
    "# TODO assign the label to slices for training\n",
    "\n",
    "# TODO work on multiple subjects\n",
    "b = nibabel_b_img\n",
    "bd = b.get_data()"
   ]
  },
  {
   "cell_type": "code",
   "execution_count": 112,
   "metadata": {},
   "outputs": [
    {
     "data": {
      "text/plain": [
       "(64, 64, 30)"
      ]
     },
     "execution_count": 112,
     "metadata": {},
     "output_type": "execute_result"
    }
   ],
   "source": [
    "bd[:, :, :, 2].shape"
   ]
  },
  {
   "cell_type": "code",
   "execution_count": null,
   "metadata": {},
   "outputs": [],
   "source": []
  },
  {
   "cell_type": "code",
   "execution_count": 49,
   "metadata": {},
   "outputs": [],
   "source": [
    "# Available Modalities : T1w, bold\n",
    "# TODO need to understand what the difference is, can I just use one?\n",
    "\n",
    "from nilearn import plotting\n",
    "\n",
    "img_path = os.path.join(os.getcwd(), ds_path, 'sub-01', 'func', b_img.filename)\n",
    "# plotting.plot_img(nibabel_b_img)\n",
    "\n",
    "# layout.to_df().path.values\n"
   ]
  },
  {
   "cell_type": "code",
   "execution_count": 24,
   "metadata": {},
   "outputs": [
    {
     "name": "stdout",
     "output_type": "stream",
     "text": [
      "\n",
      "Dataset created in /home/evan/nilearn_data/haxby2001\n",
      "\n",
      "Downloading data from https://www.nitrc.org/frs/download.php/7868/mask.nii.gz ...\n"
     ]
    },
    {
     "name": "stderr",
     "output_type": "stream",
     "text": [
      "\r",
      "Downloaded 2969 of 2969 bytes (100.0%,    0.0s remaining) ...done. (1 seconds, 0 min)\n",
      "\r",
      "Downloaded 408 of 408 bytes (100.0%,    0.0s remaining) ...done. (0 seconds, 0 min)\n"
     ]
    },
    {
     "name": "stdout",
     "output_type": "stream",
     "text": [
      "Downloading data from http://data.pymvpa.org/datasets/haxby2001/MD5SUMS ...\n",
      "Downloading data from http://data.pymvpa.org/datasets/haxby2001/subj2-2010.01.14.tar.gz ...\n"
     ]
    },
    {
     "name": "stderr",
     "output_type": "stream",
     "text": [
      "Downloaded 291168628 of 291168628 bytes (100.0%,    0.0s remaining) ...done. (37 seconds, 0 min)\n",
      "Extracting data from /home/evan/nilearn_data/haxby2001/f33ff337e914bf7fded743c7107979f9/subj2-2010.01.14.tar.gz..... done.\n"
     ]
    }
   ],
   "source": [
    "from nilearn.datasets import fetch_haxby\n",
    "data_files = fetch_haxby()\n",
    "\n",
    "# Load behavioral data\n",
    "import pandas as pd\n",
    "behavioral = pd.read_csv(data_files.session_target[0], sep=\" \")\n",
    "\n",
    "# Restrict to face and house conditions\n",
    "conditions = behavioral['labels']\n",
    "condition_mask = conditions.isin(['face', 'house'])\n",
    "\n",
    "# Split data into train and test samples, using the chunks\n",
    "condition_mask_train = (condition_mask) & (behavioral['chunks'] <= 6)\n",
    "condition_mask_test = (condition_mask) & (behavioral['chunks'] > 6)\n",
    "\n",
    "# Apply this sample mask to X (fMRI data) and y (behavioral labels)\n",
    "# Because the data is in one single large 4D image, we need to use\n",
    "# index_img to do the split easily\n",
    "from nilearn.image import index_img\n",
    "func_filenames = data_files.func[0]\n",
    "X_train = index_img(func_filenames, condition_mask_train)\n",
    "X_test = index_img(func_filenames, condition_mask_test)\n",
    "y_train = conditions[condition_mask_train]\n",
    "y_test = conditions[condition_mask_test]\n",
    "\n",
    "# Compute the mean epi to be used for the background of the plotting\n",
    "from nilearn.image import mean_img\n",
    "background_img = mean_img(func_filenames)"
   ]
  },
  {
   "cell_type": "code",
   "execution_count": 27,
   "metadata": {},
   "outputs": [
    {
     "data": {
      "text/plain": [
       "(40, 64, 64)"
      ]
     },
     "execution_count": 27,
     "metadata": {},
     "output_type": "execute_result"
    }
   ],
   "source": [
    "background_img.shape"
   ]
  },
  {
   "cell_type": "code",
   "execution_count": null,
   "metadata": {},
   "outputs": [],
   "source": []
  },
  {
   "cell_type": "code",
   "execution_count": 7,
   "metadata": {},
   "outputs": [
    {
     "data": {
      "text/plain": [
       "VGG(\n",
       "  (features): Sequential(\n",
       "    (0): Conv2d(3, 64, kernel_size=(3, 3), stride=(1, 1), padding=(1, 1))\n",
       "    (1): ReLU(inplace=True)\n",
       "    (2): MaxPool2d(kernel_size=2, stride=2, padding=0, dilation=1, ceil_mode=False)\n",
       "    (3): Conv2d(64, 128, kernel_size=(3, 3), stride=(1, 1), padding=(1, 1))\n",
       "    (4): ReLU(inplace=True)\n",
       "    (5): MaxPool2d(kernel_size=2, stride=2, padding=0, dilation=1, ceil_mode=False)\n",
       "    (6): Conv2d(128, 256, kernel_size=(3, 3), stride=(1, 1), padding=(1, 1))\n",
       "    (7): ReLU(inplace=True)\n",
       "    (8): Conv2d(256, 256, kernel_size=(3, 3), stride=(1, 1), padding=(1, 1))\n",
       "    (9): ReLU(inplace=True)\n",
       "    (10): MaxPool2d(kernel_size=2, stride=2, padding=0, dilation=1, ceil_mode=False)\n",
       "    (11): Conv2d(256, 512, kernel_size=(3, 3), stride=(1, 1), padding=(1, 1))\n",
       "    (12): ReLU(inplace=True)\n",
       "    (13): Conv2d(512, 512, kernel_size=(3, 3), stride=(1, 1), padding=(1, 1))\n",
       "    (14): ReLU(inplace=True)\n",
       "    (15): MaxPool2d(kernel_size=2, stride=2, padding=0, dilation=1, ceil_mode=False)\n",
       "    (16): Conv2d(512, 512, kernel_size=(3, 3), stride=(1, 1), padding=(1, 1))\n",
       "    (17): ReLU(inplace=True)\n",
       "    (18): Conv2d(512, 512, kernel_size=(3, 3), stride=(1, 1), padding=(1, 1))\n",
       "    (19): ReLU(inplace=True)\n",
       "    (20): MaxPool2d(kernel_size=2, stride=2, padding=0, dilation=1, ceil_mode=False)\n",
       "  )\n",
       "  (avgpool): AdaptiveAvgPool2d(output_size=(7, 7))\n",
       "  (classifier): Sequential(\n",
       "    (0): Linear(in_features=25088, out_features=4096, bias=True)\n",
       "    (1): ReLU(inplace=True)\n",
       "    (2): Dropout(p=0.5, inplace=False)\n",
       "    (3): Linear(in_features=4096, out_features=4096, bias=True)\n",
       "    (4): ReLU(inplace=True)\n",
       "    (5): Dropout(p=0.5, inplace=False)\n",
       "    (6): Linear(in_features=4096, out_features=1000, bias=True)\n",
       "  )\n",
       ")"
      ]
     },
     "execution_count": 7,
     "metadata": {},
     "output_type": "execute_result"
    }
   ],
   "source": [
    "from torchvision.models import vgg\n",
    "\n",
    "model = vgg.vgg11()\n",
    "model"
   ]
  },
  {
   "cell_type": "code",
   "execution_count": 8,
   "metadata": {},
   "outputs": [],
   "source": [
    "model.train?"
   ]
  },
  {
   "cell_type": "code",
   "execution_count": null,
   "metadata": {},
   "outputs": [],
   "source": []
  }
 ],
 "metadata": {
  "kernelspec": {
   "display_name": "Python 3",
   "language": "python",
   "name": "python3"
  },
  "language_info": {
   "codemirror_mode": {
    "name": "ipython",
    "version": 3
   },
   "file_extension": ".py",
   "mimetype": "text/x-python",
   "name": "python",
   "nbconvert_exporter": "python",
   "pygments_lexer": "ipython3",
   "version": "3.6.9"
  }
 },
 "nbformat": 4,
 "nbformat_minor": 2
}
